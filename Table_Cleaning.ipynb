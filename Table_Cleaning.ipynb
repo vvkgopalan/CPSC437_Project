{
 "cells": [
  {
   "cell_type": "code",
   "execution_count": 1,
   "metadata": {
    "id": "CdmwMc5ibTp5"
   },
   "outputs": [],
   "source": [
    "import pandas as pd"
   ]
  },
  {
   "cell_type": "code",
   "execution_count": 94,
   "metadata": {},
   "outputs": [
    {
     "name": "stdout",
     "output_type": "stream",
     "text": [
      "    team_id              Current_Name Conference Division\n",
      "0         0             Buffalo Bills        AFC     East\n",
      "1         1            Miami Dolphins        AFC     East\n",
      "2         2      New England Patriots        AFC     East\n",
      "3         3             New York Jets        AFC     East\n",
      "4         4       Pittsburgh Steelers        AFC    North\n",
      "5         5          Cleveland Browns        AFC    North\n",
      "6         6          Baltimore Ravens        AFC    North\n",
      "7         7        Cincinnati Bengals        AFC    North\n",
      "8         8          Tennessee Titans        AFC    South\n",
      "9         9        Indianapolis Colts        AFC    South\n",
      "10       10            Houston Texans        AFC    South\n",
      "11       11      Jacksonville Jaguars        AFC    South\n",
      "12       12        Kansas City Chiefs        AFC     West\n",
      "13       13         Las Vegas Raiders        AFC     West\n",
      "14       14            Denver Broncos        AFC     West\n",
      "15       15      Los Angeles Chargers        AFC     West\n",
      "16       16  Washington Football Team        NFC     East\n",
      "17       17           New York Giants        NFC     East\n",
      "18       18       Philadelphia Eagles        NFC     East\n",
      "19       19            Dallas Cowboys        NFC     East\n",
      "20       20         Green Bay Packers        NFC    North\n",
      "21       21         Minnesota Vikings        NFC    North\n",
      "22       22             Chicago Bears        NFC    North\n",
      "23       23             Detroit Lions        NFC    North\n",
      "24       24        New Orleans Saints        NFC    South\n",
      "25       25      Tampa Bay Buccaneers        NFC    South\n",
      "26       26           Atlanta Falcons        NFC    South\n",
      "27       27         Carolina Panthers        NFC    South\n",
      "28       28          Seattle Seahawks        NFC     West\n",
      "29       29          Los Angeles Rams        NFC     West\n",
      "30       30         Arizona Cardinals        NFC     West\n",
      "31       31       San Francisco 49ers        NFC     West\n",
      "{0: 'Buffalo Bills', 1: 'Miami Dolphins', 2: 'New England Patriots', 3: 'New York Jets', 4: 'Pittsburgh Steelers', 5: 'Cleveland Browns', 6: 'Baltimore Ravens', 7: 'Cincinnati Bengals', 8: 'Tennessee Titans', 9: 'Indianapolis Colts', 10: 'Houston Texans', 11: 'Jacksonville Jaguars', 12: 'Kansas City Chiefs', 13: 'Las Vegas Raiders', 14: 'Denver Broncos', 15: 'Los Angeles Chargers', 16: 'Washington Football Team', 17: 'New York Giants', 18: 'Philadelphia Eagles', 19: 'Dallas Cowboys', 20: 'Green Bay Packers', 21: 'Minnesota Vikings', 22: 'Chicago Bears', 23: 'Detroit Lions', 24: 'New Orleans Saints', 25: 'Tampa Bay Buccaneers', 26: 'Atlanta Falcons', 27: 'Carolina Panthers', 28: 'Seattle Seahawks', 29: 'Los Angeles Rams', 30: 'Arizona Cardinals', 31: 'San Francisco 49ers'}\n",
      "{'Buffalo Bills': 0, 'Miami Dolphins': 1, 'New England Patriots': 2, 'New York Jets': 3, 'Pittsburgh Steelers': 4, 'Cleveland Browns': 5, 'Baltimore Ravens': 6, 'Cincinnati Bengals': 7, 'Tennessee Titans': 8, 'Indianapolis Colts': 9, 'Houston Texans': 10, 'Jacksonville Jaguars': 11, 'Kansas City Chiefs': 12, 'Las Vegas Raiders': 13, 'Denver Broncos': 14, 'Los Angeles Chargers': 15, 'Washington Football Team': 16, 'New York Giants': 17, 'Philadelphia Eagles': 18, 'Dallas Cowboys': 19, 'Green Bay Packers': 20, 'Minnesota Vikings': 21, 'Chicago Bears': 22, 'Detroit Lions': 23, 'New Orleans Saints': 24, 'Tampa Bay Buccaneers': 25, 'Atlanta Falcons': 26, 'Carolina Panthers': 27, 'Seattle Seahawks': 28, 'Los Angeles Rams': 29, 'Arizona Cardinals': 30, 'San Francisco 49ers': 31, 'Washington Redskins': 16, 'Oakland Raiders': 13, 'San Diego Chargers': 15, 'St. Louis Rams': 29}\n"
     ]
    }
   ],
   "source": [
    "year = 2020\n",
    "\n",
    "afc = pd.read_csv(str(year)+'/AFC.csv')\n",
    "afc = afc[~afc['Tm'].str.contains('AFC')]\n",
    "afc.insert(2, 'Conference', 'AFC')\n",
    "afc.insert(4, 'Division', ['East']*4 + ['North']*4 + ['South']*4 + ['West']*4)\n",
    "afc = afc[['Tm', 'Conference', 'Division']].rename(columns={'Tm': 'Current_Name'})\n",
    "\n",
    "nfc = pd.read_csv(str(year)+'/NFC.csv')\n",
    "nfc = nfc[~nfc['Tm'].str.contains('NFC')]\n",
    "nfc.insert(2, 'Conference', 'NFC')\n",
    "nfc.insert(4, 'Division', ['East']*4 + ['North']*4 + ['South']*4 + ['West']*4)\n",
    "nfc = nfc[['Tm', 'Conference', 'Division']].rename(columns={'Tm': 'Current_Name'})\n",
    "\n",
    "teams = pd.concat([afc, nfc]).reset_index()[['Current_Name', 'Conference', 'Division']]\n",
    "teams['Current_Name'] = teams['Current_Name'].apply(lambda s: s.rstrip('*+ '))\n",
    "teams.insert(0, 'team_id', teams.index)\n",
    "\n",
    "# This one probably won't be as useful\n",
    "index_to_team = dict(zip(teams.index, teams['Current_Name']))\n",
    "\n",
    "# Useful Mapping\n",
    "team_to_index = dict(zip(teams['Current_Name'], teams.index))\n",
    "team_to_index.update({\"Washington Redskins\": 16, \"Oakland Raiders\": 13, \"San Diego Chargers\": 15, \"St. Louis Rams\": 29})\n",
    "\n",
    "print(teams)\n",
    "print(index_to_team)\n",
    "print(team_to_index)"
   ]
  },
  {
   "cell_type": "code",
   "execution_count": 117,
   "metadata": {
    "scrolled": false
   },
   "outputs": [
    {
     "name": "stdout",
     "output_type": "stream",
     "text": [
      "     index  team_id  year  wins  losses  ties  points_for  points_against  \\\n",
      "0        1        3  2002   9.0     7.0   0.0       359.0           336.0   \n",
      "1        2        2  2002   9.0     7.0   0.0       381.0           346.0   \n",
      "2        3        1  2002   9.0     7.0   0.0       378.0           301.0   \n",
      "3        4        0  2002   8.0     8.0   0.0       379.0           397.0   \n",
      "4        6        4  2002  10.0     5.0   1.0       390.0           345.0   \n",
      "..     ...      ...   ...   ...     ...   ...         ...             ...   \n",
      "603     14       27  2020   4.0     8.0   0.0       280.0           300.0   \n",
      "604     16       28  2020   8.0     3.0   0.0       341.0           304.0   \n",
      "605     17       29  2020   7.0     4.0   0.0       263.0           215.0   \n",
      "606     18       30  2020   6.0     5.0   0.0       304.0           258.0   \n",
      "607     19       31  2020   5.0     6.0   0.0       261.0           254.0   \n",
      "\n",
      "     strength_of_schedule  \n",
      "0                     1.7  \n",
      "1                     1.8  \n",
      "2                     1.2  \n",
      "3                     0.9  \n",
      "4                    -0.1  \n",
      "..                    ...  \n",
      "603                   2.4  \n",
      "604                   0.0  \n",
      "605                  -0.3  \n",
      "606                  -1.9  \n",
      "607                   0.9  \n",
      "\n",
      "[608 rows x 9 columns]\n"
     ]
    }
   ],
   "source": [
    "season_team_stats = None\n",
    "for year in range(2002, 2021):\n",
    "    afc = pd.read_csv(str(year)+'/AFC.csv')\n",
    "    afc = afc[~afc['Tm'].str.contains('AFC')]\n",
    "\n",
    "    nfc = pd.read_csv(str(year)+'/NFC.csv')\n",
    "    nfc = nfc[~nfc['Tm'].str.contains('NFC')]\n",
    "    \n",
    "    teams = afc.append(nfc)\n",
    "    teams['Tm'] = teams['Tm'].apply(lambda s: s.rstrip('*+ '))\n",
    "    teams.insert(0, 'team_id', [team_to_index[team] for team in teams['Tm']])\n",
    "    teams.insert(1, 'year', year)\n",
    "    teams = teams.rename(columns={'W': 'wins', \"L\": \"losses\", \"T\": \"ties\", \"PF\": \"points_for\",\n",
    "                          \"PA\": \"points_against\", \"SoS\": \"strength_of_schedule\"})\n",
    "    if 'ties' not in teams.columns:\n",
    "        teams['ties'] = 0\n",
    "        \n",
    "    teams = teams[['team_id', 'year', 'wins', 'losses', 'ties', 'points_for', 'points_against', 'strength_of_schedule']]\n",
    "    \n",
    "    if season_team_stats is None:\n",
    "        season_team_stats = teams\n",
    "    else:\n",
    "        season_team_stats = season_team_stats.append(teams)\n",
    "        \n",
    "season_team_stats = season_team_stats.reset_index()\n",
    "print(season_team_stats)"
   ]
  }
 ],
 "metadata": {
  "colab": {
   "name": "Table Cleaning.ipynb",
   "provenance": []
  },
  "kernelspec": {
   "display_name": "Python 3",
   "language": "python",
   "name": "python3"
  },
  "language_info": {
   "codemirror_mode": {
    "name": "ipython",
    "version": 3
   },
   "file_extension": ".py",
   "mimetype": "text/x-python",
   "name": "python",
   "nbconvert_exporter": "python",
   "pygments_lexer": "ipython3",
   "version": "3.8.5"
  }
 },
 "nbformat": 4,
 "nbformat_minor": 1
}
