{
 "cells": [
  {
   "cell_type": "code",
   "execution_count": 1,
   "metadata": {
    "id": "CdmwMc5ibTp5"
   },
   "outputs": [],
   "source": [
    "import pandas as pd"
   ]
  },
  {
   "cell_type": "code",
   "execution_count": 89,
   "metadata": {},
   "outputs": [
    {
     "name": "stdout",
     "output_type": "stream",
     "text": [
      "                Current_Name Conference Division\n",
      "0              Buffalo Bills        AFC     East\n",
      "1             Miami Dolphins        AFC     East\n",
      "2       New England Patriots        AFC     East\n",
      "3              New York Jets        AFC     East\n",
      "4        Pittsburgh Steelers        AFC    North\n",
      "5           Cleveland Browns        AFC    North\n",
      "6           Baltimore Ravens        AFC    North\n",
      "7         Cincinnati Bengals        AFC    North\n",
      "8           Tennessee Titans        AFC    South\n",
      "9         Indianapolis Colts        AFC    South\n",
      "10            Houston Texans        AFC    South\n",
      "11      Jacksonville Jaguars        AFC    South\n",
      "12        Kansas City Chiefs        AFC     West\n",
      "13         Las Vegas Raiders        AFC     West\n",
      "14            Denver Broncos        AFC     West\n",
      "15      Los Angeles Chargers        AFC     West\n",
      "16  Washington Football Team        NFC     East\n",
      "17           New York Giants        NFC     East\n",
      "18       Philadelphia Eagles        NFC     East\n",
      "19            Dallas Cowboys        NFC     East\n",
      "20         Green Bay Packers        NFC    North\n",
      "21         Minnesota Vikings        NFC    North\n",
      "22             Chicago Bears        NFC    North\n",
      "23             Detroit Lions        NFC    North\n",
      "24        New Orleans Saints        NFC    South\n",
      "25      Tampa Bay Buccaneers        NFC    South\n",
      "26           Atlanta Falcons        NFC    South\n",
      "27         Carolina Panthers        NFC    South\n",
      "28          Seattle Seahawks        NFC     West\n",
      "29          Los Angeles Rams        NFC     West\n",
      "30         Arizona Cardinals        NFC     West\n",
      "31       San Francisco 49ers        NFC     West\n",
      "{0: 'Buffalo Bills', 1: 'Miami Dolphins', 2: 'New England Patriots', 3: 'New York Jets', 4: 'Pittsburgh Steelers', 5: 'Cleveland Browns', 6: 'Baltimore Ravens', 7: 'Cincinnati Bengals', 8: 'Tennessee Titans', 9: 'Indianapolis Colts', 10: 'Houston Texans', 11: 'Jacksonville Jaguars', 12: 'Kansas City Chiefs', 13: 'Las Vegas Raiders', 14: 'Denver Broncos', 15: 'Los Angeles Chargers', 16: 'Washington Football Team', 17: 'New York Giants', 18: 'Philadelphia Eagles', 19: 'Dallas Cowboys', 20: 'Green Bay Packers', 21: 'Minnesota Vikings', 22: 'Chicago Bears', 23: 'Detroit Lions', 24: 'New Orleans Saints', 25: 'Tampa Bay Buccaneers', 26: 'Atlanta Falcons', 27: 'Carolina Panthers', 28: 'Seattle Seahawks', 29: 'Los Angeles Rams', 30: 'Arizona Cardinals', 31: 'San Francisco 49ers'}\n",
      "{'Buffalo Bills': 0, 'Miami Dolphins': 1, 'New England Patriots': 2, 'New York Jets': 3, 'Pittsburgh Steelers': 4, 'Cleveland Browns': 5, 'Baltimore Ravens': 6, 'Cincinnati Bengals': 7, 'Tennessee Titans': 8, 'Indianapolis Colts': 9, 'Houston Texans': 10, 'Jacksonville Jaguars': 11, 'Kansas City Chiefs': 12, 'Las Vegas Raiders': 13, 'Denver Broncos': 14, 'Los Angeles Chargers': 15, 'Washington Football Team': 16, 'New York Giants': 17, 'Philadelphia Eagles': 18, 'Dallas Cowboys': 19, 'Green Bay Packers': 20, 'Minnesota Vikings': 21, 'Chicago Bears': 22, 'Detroit Lions': 23, 'New Orleans Saints': 24, 'Tampa Bay Buccaneers': 25, 'Atlanta Falcons': 26, 'Carolina Panthers': 27, 'Seattle Seahawks': 28, 'Los Angeles Rams': 29, 'Arizona Cardinals': 30, 'San Francisco 49ers': 31, 'Washington Redskins': 16, 'Oakland Raiders': 13, 'San Diego Chargers': 15}\n"
     ]
    }
   ],
   "source": [
    "year = 2020\n",
    "\n",
    "afc = pd.read_csv(str(year)+'/AFC.csv')\n",
    "afc = afc[~afc['Tm'].str.contains('AFC')]\n",
    "afc.insert(2, 'Conference', 'AFC')\n",
    "afc.insert(4, 'Division', ['East']*4 + ['North']*4 + ['South']*4 + ['West']*4)\n",
    "afc = afc[['Tm', 'Conference', 'Division']].rename(columns={'Tm': 'Current_Name'})\n",
    "\n",
    "nfc = pd.read_csv(str(year)+'/NFC.csv')\n",
    "nfc = nfc[~nfc['Tm'].str.contains('NFC')]\n",
    "nfc.insert(2, 'Conference', 'NFC')\n",
    "nfc.insert(4, 'Division', ['East']*4 + ['North']*4 + ['South']*4 + ['West']*4)\n",
    "nfc = nfc[['Tm', 'Conference', 'Division']].rename(columns={'Tm': 'Current_Name'})\n",
    "\n",
    "teams = pd.concat([afc, nfc]).reset_index()[['Current_Name', 'Conference', 'Division']]\n",
    "teams['Current_Name'] = teams['Current_Name'].apply(lambda s: s.rstrip('*+ '))\n",
    "\n",
    "# This one probably won't be as useful\n",
    "index_to_team = dict(zip(teams.index, teams['Current_Name']))\n",
    "\n",
    "# Useful Mapping\n",
    "team_to_index = dict(zip(teams['Current_Name'], teams.index))\n",
    "team_to_index.update({\"Washington Redskins\": 16, \"Oakland Raiders\": 13, \"San Diego Chargers\": 15})\n",
    "\n",
    "print(teams)\n",
    "print(index_to_team)\n",
    "print(team_to_index)"
   ]
  },
  {
   "cell_type": "code",
   "execution_count": null,
   "metadata": {},
   "outputs": [],
   "source": []
  }
 ],
 "metadata": {
  "colab": {
   "name": "Table Cleaning.ipynb",
   "provenance": []
  },
  "kernelspec": {
   "display_name": "Python 3",
   "language": "python",
   "name": "python3"
  },
  "language_info": {
   "codemirror_mode": {
    "name": "ipython",
    "version": 3
   },
   "file_extension": ".py",
   "mimetype": "text/x-python",
   "name": "python",
   "nbconvert_exporter": "python",
   "pygments_lexer": "ipython3",
   "version": "3.8.5"
  }
 },
 "nbformat": 4,
 "nbformat_minor": 1
}
