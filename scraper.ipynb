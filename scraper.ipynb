{
 "cells": [
  {
   "cell_type": "code",
   "execution_count": 19,
   "metadata": {
    "id": "dOyYQqLOHjQf"
   },
   "outputs": [],
   "source": [
    "# From Ben Kite - https://github.com/BenKite/football_data/blob/master/profootballReferenceScrape.py\n",
    "\n",
    "import pandas\n",
    "import requests, bs4\n",
    "import re\n",
    "\n",
    "## Provides a list of the html tables that can be found at the url\n",
    "## provided.  The order in the list returned should reflect the order\n",
    "## that the tables appear.  On pro-football-reference.com, these names\n",
    "## usually indicate what information they contain.\n",
    "def findTables(url):\n",
    "    res = requests.get(url)\n",
    "    comm = re.compile(\"<!--|-->\")\n",
    "    soup = bs4.BeautifulSoup(comm.sub(\"\", res.text), 'html.parser')\n",
    "    divs = soup.findAll('div', id = \"content\")\n",
    "    divs = divs[0].findAll(\"div\", id=re.compile(\"^all\"))\n",
    "    ids = []\n",
    "    for div in divs:\n",
    "        searchme = str(div.findAll(\"table\"))\n",
    "        x = searchme[searchme.find(\"id=\") + 3: searchme.find(\">\")]\n",
    "        x = x.replace(\"\\\"\", \"\")\n",
    "        if len(x) > 0:\n",
    "            ids.append(x)\n",
    "    return(ids)\n",
    "## For example:\n",
    "## findTables(\"http://www.pro-football-reference.com/boxscores/201702050atl.htm\")\n",
    "\n",
    "\n",
    "## Pulls a table (indicated by tableID, which can be identified with\n",
    "## \"findTables\") from the specified url. The header option determines\n",
    "## if the function should try to determine the column names and put\n",
    "## them in the returned data frame. The default for header is True.\n",
    "## If you get an index error for data_header, try specifying header =\n",
    "## False. I will include a generated error message for that soon.\n",
    "def pullTable(url, tableID, header = True):\n",
    "    res = requests.get(url)\n",
    "    ## Work around comments\n",
    "    comm = re.compile(\"<!--|-->\")\n",
    "    soup = bs4.BeautifulSoup(comm.sub(\"\", res.text), 'html.parser')\n",
    "    tables = soup.findAll('table', id = tableID)\n",
    "    data_rows = tables[0].findAll('tr')\n",
    "    game_data = [[td.getText() for td in data_rows[i].findAll(['th','td'])]\n",
    "        for i in range(len(data_rows))\n",
    "        ]\n",
    "    data = pandas.DataFrame(game_data)\n",
    "    if header == True:\n",
    "        data_header = tables[0].findAll('thead')\n",
    "        data_header = data_header[0].findAll(\"tr\")\n",
    "        data_header = data_header[0].findAll(\"th\")\n",
    "        header = []\n",
    "        for i in range(len(data.columns)):\n",
    "            header.append(data_header[i].getText())\n",
    "        data.columns = header\n",
    "        data = data.loc[data[header[0]] != header[0]]\n",
    "    data = data.reset_index(drop = True)\n",
    "    return(data)\n"
   ]
  },
  {
   "cell_type": "code",
   "execution_count": 20,
   "metadata": {
    "colab": {
     "base_uri": "https://localhost:8080/"
    },
    "id": "EMBHL9BBHxEU",
    "outputId": "c05ab576-8ac5-4cdf-ff00-36b302ba75eb"
   },
   "outputs": [
    {
     "data": {
      "text/plain": [
       "['AFC',\n",
       " 'NFC',\n",
       " 'playoff_results',\n",
       " 'team_stats',\n",
       " 'passing',\n",
       " 'rushing',\n",
       " 'returns',\n",
       " 'kicking',\n",
       " 'team_scoring',\n",
       " 'team_conversions',\n",
       " 'drives']"
      ]
     },
     "execution_count": 20,
     "metadata": {},
     "output_type": "execute_result"
    }
   ],
   "source": [
    "findTables(\"https://www.pro-football-reference.com/years/2002/\")"
   ]
  },
  {
   "cell_type": "code",
   "execution_count": 23,
   "metadata": {
    "id": "_AmipLMPH2yj"
   },
   "outputs": [],
   "source": [
    "conf_table_names = ['AFC', 'NFC', 'playoff_results']\n",
    "YEAR_START = 2002\n",
    "YEAR_END = 2021\n",
    "for year in range(YEAR_START, YEAR_END):\n",
    "    url = \"https://www.pro-football-reference.com/years/\" + str(year)\n",
    "    for conf_entr in conf_table_names:\n",
    "        if (year == 2020 and conf_entr == 'playoff_results'):\n",
    "            break\n",
    "        dest = str(year) + \"/\" + conf_entr\n",
    "        data = pullTable(url, conf_entr)\n",
    "        data.to_csv(dest + \".csv\")\n",
    "  "
   ]
  },
  {
   "cell_type": "code",
   "execution_count": 26,
   "metadata": {},
   "outputs": [
    {
     "name": "stdout",
     "output_type": "stream",
     "text": [
      "['passing']\n",
      "['rushing']\n",
      "['receiving']\n",
      "['defense']\n",
      "['kicking']\n",
      "['returns']\n",
      "['games']\n",
      "['coaches']\n"
     ]
    }
   ],
   "source": [
    "print(findTables(\"https://www.pro-football-reference.com/years/2002/passing.htm\"))\n",
    "print(findTables(\"https://www.pro-football-reference.com/years/2002/rushing.htm\"))\n",
    "print(findTables(\"https://www.pro-football-reference.com/years/2002/receiving.htm\"))\n",
    "print(findTables(\"https://www.pro-football-reference.com/years/2002/defense.htm\"))\n",
    "print(findTables(\"https://www.pro-football-reference.com/years/2002/kicking.htm\"))\n",
    "print(findTables(\"https://www.pro-football-reference.com/years/2002/returns.htm\"))\n",
    "print(findTables(\"https://www.pro-football-reference.com/years/2002/games.htm\"))\n",
    "print(findTables(\"https://www.pro-football-reference.com/years/2002/coaches.htm\"))"
   ]
  },
  {
   "cell_type": "code",
   "execution_count": 30,
   "metadata": {},
   "outputs": [
    {
     "name": "stdout",
     "output_type": "stream",
     "text": [
      "https://www.pro-football-reference.com/years/2002/passing.htm\n",
      "https://www.pro-football-reference.com/years/2002/rushing.htm\n",
      "https://www.pro-football-reference.com/years/2002/receiving.htm\n",
      "https://www.pro-football-reference.com/years/2002/defense.htm\n",
      "https://www.pro-football-reference.com/years/2002/kicking.htm\n",
      "https://www.pro-football-reference.com/years/2002/returns.htm\n",
      "https://www.pro-football-reference.com/years/2002/games.htm\n",
      "https://www.pro-football-reference.com/years/2002/coaches.htm\n",
      "https://www.pro-football-reference.com/years/2003/passing.htm\n",
      "https://www.pro-football-reference.com/years/2003/rushing.htm\n",
      "https://www.pro-football-reference.com/years/2003/receiving.htm\n",
      "https://www.pro-football-reference.com/years/2003/defense.htm\n",
      "https://www.pro-football-reference.com/years/2003/kicking.htm\n",
      "https://www.pro-football-reference.com/years/2003/returns.htm\n",
      "https://www.pro-football-reference.com/years/2003/games.htm\n",
      "https://www.pro-football-reference.com/years/2003/coaches.htm\n",
      "https://www.pro-football-reference.com/years/2004/passing.htm\n",
      "https://www.pro-football-reference.com/years/2004/rushing.htm\n",
      "https://www.pro-football-reference.com/years/2004/receiving.htm\n",
      "https://www.pro-football-reference.com/years/2004/defense.htm\n",
      "https://www.pro-football-reference.com/years/2004/kicking.htm\n",
      "https://www.pro-football-reference.com/years/2004/returns.htm\n",
      "https://www.pro-football-reference.com/years/2004/games.htm\n",
      "https://www.pro-football-reference.com/years/2004/coaches.htm\n",
      "https://www.pro-football-reference.com/years/2005/passing.htm\n",
      "https://www.pro-football-reference.com/years/2005/rushing.htm\n",
      "https://www.pro-football-reference.com/years/2005/receiving.htm\n",
      "https://www.pro-football-reference.com/years/2005/defense.htm\n",
      "https://www.pro-football-reference.com/years/2005/kicking.htm\n",
      "https://www.pro-football-reference.com/years/2005/returns.htm\n",
      "https://www.pro-football-reference.com/years/2005/games.htm\n",
      "https://www.pro-football-reference.com/years/2005/coaches.htm\n",
      "https://www.pro-football-reference.com/years/2006/passing.htm\n",
      "https://www.pro-football-reference.com/years/2006/rushing.htm\n",
      "https://www.pro-football-reference.com/years/2006/receiving.htm\n",
      "https://www.pro-football-reference.com/years/2006/defense.htm\n",
      "https://www.pro-football-reference.com/years/2006/kicking.htm\n",
      "https://www.pro-football-reference.com/years/2006/returns.htm\n",
      "https://www.pro-football-reference.com/years/2006/games.htm\n",
      "https://www.pro-football-reference.com/years/2006/coaches.htm\n",
      "https://www.pro-football-reference.com/years/2007/passing.htm\n",
      "https://www.pro-football-reference.com/years/2007/rushing.htm\n",
      "https://www.pro-football-reference.com/years/2007/receiving.htm\n",
      "https://www.pro-football-reference.com/years/2007/defense.htm\n",
      "https://www.pro-football-reference.com/years/2007/kicking.htm\n",
      "https://www.pro-football-reference.com/years/2007/returns.htm\n",
      "https://www.pro-football-reference.com/years/2007/games.htm\n",
      "https://www.pro-football-reference.com/years/2007/coaches.htm\n",
      "https://www.pro-football-reference.com/years/2008/passing.htm\n",
      "https://www.pro-football-reference.com/years/2008/rushing.htm\n",
      "https://www.pro-football-reference.com/years/2008/receiving.htm\n",
      "https://www.pro-football-reference.com/years/2008/defense.htm\n",
      "https://www.pro-football-reference.com/years/2008/kicking.htm\n",
      "https://www.pro-football-reference.com/years/2008/returns.htm\n",
      "https://www.pro-football-reference.com/years/2008/games.htm\n",
      "https://www.pro-football-reference.com/years/2008/coaches.htm\n",
      "https://www.pro-football-reference.com/years/2009/passing.htm\n",
      "https://www.pro-football-reference.com/years/2009/rushing.htm\n",
      "https://www.pro-football-reference.com/years/2009/receiving.htm\n",
      "https://www.pro-football-reference.com/years/2009/defense.htm\n",
      "https://www.pro-football-reference.com/years/2009/kicking.htm\n",
      "https://www.pro-football-reference.com/years/2009/returns.htm\n",
      "https://www.pro-football-reference.com/years/2009/games.htm\n",
      "https://www.pro-football-reference.com/years/2009/coaches.htm\n",
      "https://www.pro-football-reference.com/years/2010/passing.htm\n",
      "https://www.pro-football-reference.com/years/2010/rushing.htm\n",
      "https://www.pro-football-reference.com/years/2010/receiving.htm\n",
      "https://www.pro-football-reference.com/years/2010/defense.htm\n",
      "https://www.pro-football-reference.com/years/2010/kicking.htm\n",
      "https://www.pro-football-reference.com/years/2010/returns.htm\n",
      "https://www.pro-football-reference.com/years/2010/games.htm\n",
      "https://www.pro-football-reference.com/years/2010/coaches.htm\n",
      "https://www.pro-football-reference.com/years/2011/passing.htm\n",
      "https://www.pro-football-reference.com/years/2011/rushing.htm\n",
      "https://www.pro-football-reference.com/years/2011/receiving.htm\n",
      "https://www.pro-football-reference.com/years/2011/defense.htm\n",
      "https://www.pro-football-reference.com/years/2011/kicking.htm\n",
      "https://www.pro-football-reference.com/years/2011/returns.htm\n",
      "https://www.pro-football-reference.com/years/2011/games.htm\n",
      "https://www.pro-football-reference.com/years/2011/coaches.htm\n",
      "https://www.pro-football-reference.com/years/2012/passing.htm\n",
      "https://www.pro-football-reference.com/years/2012/rushing.htm\n",
      "https://www.pro-football-reference.com/years/2012/receiving.htm\n",
      "https://www.pro-football-reference.com/years/2012/defense.htm\n",
      "https://www.pro-football-reference.com/years/2012/kicking.htm\n",
      "https://www.pro-football-reference.com/years/2012/returns.htm\n",
      "https://www.pro-football-reference.com/years/2012/games.htm\n",
      "https://www.pro-football-reference.com/years/2012/coaches.htm\n",
      "https://www.pro-football-reference.com/years/2013/passing.htm\n",
      "https://www.pro-football-reference.com/years/2013/rushing.htm\n",
      "https://www.pro-football-reference.com/years/2013/receiving.htm\n",
      "https://www.pro-football-reference.com/years/2013/defense.htm\n",
      "https://www.pro-football-reference.com/years/2013/kicking.htm\n",
      "https://www.pro-football-reference.com/years/2013/returns.htm\n",
      "https://www.pro-football-reference.com/years/2013/games.htm\n",
      "https://www.pro-football-reference.com/years/2013/coaches.htm\n",
      "https://www.pro-football-reference.com/years/2014/passing.htm\n",
      "https://www.pro-football-reference.com/years/2014/rushing.htm\n",
      "https://www.pro-football-reference.com/years/2014/receiving.htm\n",
      "https://www.pro-football-reference.com/years/2014/defense.htm\n",
      "https://www.pro-football-reference.com/years/2014/kicking.htm\n",
      "https://www.pro-football-reference.com/years/2014/returns.htm\n",
      "https://www.pro-football-reference.com/years/2014/games.htm\n",
      "https://www.pro-football-reference.com/years/2014/coaches.htm\n",
      "https://www.pro-football-reference.com/years/2015/passing.htm\n",
      "https://www.pro-football-reference.com/years/2015/rushing.htm\n",
      "https://www.pro-football-reference.com/years/2015/receiving.htm\n",
      "https://www.pro-football-reference.com/years/2015/defense.htm\n",
      "https://www.pro-football-reference.com/years/2015/kicking.htm\n",
      "https://www.pro-football-reference.com/years/2015/returns.htm\n",
      "https://www.pro-football-reference.com/years/2015/games.htm\n",
      "https://www.pro-football-reference.com/years/2015/coaches.htm\n",
      "https://www.pro-football-reference.com/years/2016/passing.htm\n",
      "https://www.pro-football-reference.com/years/2016/rushing.htm\n",
      "https://www.pro-football-reference.com/years/2016/receiving.htm\n",
      "https://www.pro-football-reference.com/years/2016/defense.htm\n",
      "https://www.pro-football-reference.com/years/2016/kicking.htm\n",
      "https://www.pro-football-reference.com/years/2016/returns.htm\n",
      "https://www.pro-football-reference.com/years/2016/games.htm\n",
      "https://www.pro-football-reference.com/years/2016/coaches.htm\n",
      "https://www.pro-football-reference.com/years/2017/passing.htm\n",
      "https://www.pro-football-reference.com/years/2017/rushing.htm\n",
      "https://www.pro-football-reference.com/years/2017/receiving.htm\n",
      "https://www.pro-football-reference.com/years/2017/defense.htm\n",
      "https://www.pro-football-reference.com/years/2017/kicking.htm\n",
      "https://www.pro-football-reference.com/years/2017/returns.htm\n",
      "https://www.pro-football-reference.com/years/2017/games.htm\n",
      "https://www.pro-football-reference.com/years/2017/coaches.htm\n",
      "https://www.pro-football-reference.com/years/2018/passing.htm\n",
      "https://www.pro-football-reference.com/years/2018/rushing.htm\n",
      "https://www.pro-football-reference.com/years/2018/receiving.htm\n",
      "https://www.pro-football-reference.com/years/2018/defense.htm\n",
      "https://www.pro-football-reference.com/years/2018/kicking.htm\n"
     ]
    },
    {
     "name": "stdout",
     "output_type": "stream",
     "text": [
      "https://www.pro-football-reference.com/years/2018/returns.htm\n",
      "https://www.pro-football-reference.com/years/2018/games.htm\n",
      "https://www.pro-football-reference.com/years/2018/coaches.htm\n",
      "https://www.pro-football-reference.com/years/2019/passing.htm\n",
      "https://www.pro-football-reference.com/years/2019/rushing.htm\n",
      "https://www.pro-football-reference.com/years/2019/receiving.htm\n",
      "https://www.pro-football-reference.com/years/2019/defense.htm\n",
      "https://www.pro-football-reference.com/years/2019/kicking.htm\n",
      "https://www.pro-football-reference.com/years/2019/returns.htm\n",
      "https://www.pro-football-reference.com/years/2019/games.htm\n",
      "https://www.pro-football-reference.com/years/2019/coaches.htm\n",
      "https://www.pro-football-reference.com/years/2020/passing.htm\n",
      "https://www.pro-football-reference.com/years/2020/rushing.htm\n",
      "https://www.pro-football-reference.com/years/2020/receiving.htm\n",
      "https://www.pro-football-reference.com/years/2020/defense.htm\n",
      "https://www.pro-football-reference.com/years/2020/kicking.htm\n",
      "https://www.pro-football-reference.com/years/2020/returns.htm\n",
      "https://www.pro-football-reference.com/years/2020/games.htm\n",
      "https://www.pro-football-reference.com/years/2020/coaches.htm\n"
     ]
    }
   ],
   "source": [
    "table_names = ['passing', 'rushing', 'receiving', 'defense', 'kicking', 'returns', 'games','coaches']\n",
    "for year in range(YEAR_START, YEAR_END):\n",
    "    url = \"https://www.pro-football-reference.com/years/\" + str(year) + \"/\"\n",
    "    for table_entr in table_names:\n",
    "        print(url + table_entr + \".htm\")\n",
    "        dest = str(year) + \"/\" + table_entr\n",
    "        try:\n",
    "            data = pullTable(url + table_entr + \".htm\", table_entr)\n",
    "        except:\n",
    "            data = pullTable(url + table_entr + \".htm\", table_entr, header = False)\n",
    "        data.to_csv(dest + \".csv\")"
   ]
  },
  {
   "cell_type": "code",
   "execution_count": 31,
   "metadata": {},
   "outputs": [
    {
     "data": {
      "text/plain": [
       "['stadiums']"
      ]
     },
     "execution_count": 31,
     "metadata": {},
     "output_type": "execute_result"
    }
   ],
   "source": [
    "findTables(\"https://www.pro-football-reference.com/stadiums\")"
   ]
  },
  {
   "cell_type": "code",
   "execution_count": 32,
   "metadata": {},
   "outputs": [],
   "source": [
    "pullTable(\"https://www.pro-football-reference.com/stadiums\", \"stadiums\").to_csv(\"stadiums.csv\")"
   ]
  },
  {
   "cell_type": "code",
   "execution_count": 33,
   "metadata": {},
   "outputs": [
    {
     "data": {
      "text/plain": [
       "['awards']"
      ]
     },
     "execution_count": 33,
     "metadata": {},
     "output_type": "execute_result"
    }
   ],
   "source": [
    "findTables(\"https://www.pro-football-reference.com/awards/ap-nfl-mvp-award.htm\")"
   ]
  },
  {
   "cell_type": "code",
   "execution_count": 36,
   "metadata": {},
   "outputs": [
    {
     "data": {
      "text/plain": [
       "['awards']"
      ]
     },
     "execution_count": 36,
     "metadata": {},
     "output_type": "execute_result"
    }
   ],
   "source": [
    "findTables(\"https://www.pro-football-reference.com/awards/ap-offensive-player-of-the-year.htm\")"
   ]
  },
  {
   "cell_type": "code",
   "execution_count": 38,
   "metadata": {},
   "outputs": [
    {
     "data": {
      "text/plain": [
       "['awards']"
      ]
     },
     "execution_count": 38,
     "metadata": {},
     "output_type": "execute_result"
    }
   ],
   "source": [
    "findTables(\"https://www.pro-football-reference.com/awards/ap-defensive-player-of-the-year.htm\")"
   ]
  },
  {
   "cell_type": "code",
   "execution_count": 39,
   "metadata": {},
   "outputs": [],
   "source": [
    "pullTable(\"https://www.pro-football-reference.com/awards/ap-offensive-player-of-the-year.htm\", \"awards\").to_csv(\"OPOY.csv\")\n",
    "pullTable(\"https://www.pro-football-reference.com/awards/ap-defensive-player-of-the-year.htm\", \"awards\").to_csv(\"DPOY.csv\")\n",
    "pullTable(\"https://www.pro-football-reference.com/awards/ap-nfl-mvp-award.htm\", \"awards\").to_csv(\"MVP.csv\")"
   ]
  },
  {
   "cell_type": "code",
   "execution_count": 40,
   "metadata": {},
   "outputs": [
    {
     "data": {
      "text/plain": [
       "['drafts']"
      ]
     },
     "execution_count": 40,
     "metadata": {},
     "output_type": "execute_result"
    }
   ],
   "source": [
    "findTables(\"https://www.pro-football-reference.com/years/2020/draft.htm\")"
   ]
  },
  {
   "cell_type": "code",
   "execution_count": 43,
   "metadata": {},
   "outputs": [],
   "source": [
    "for year in range(YEAR_START, YEAR_END):\n",
    "    url = \"https://www.pro-football-reference.com/years/\" + str(year) + \"/draft.htm\"\n",
    "    dest = str(year) + \"/\" + \"draft\"\n",
    "    try:\n",
    "        data = pullTable(url, \"drafts\")\n",
    "    except:\n",
    "        data = pullTable(url, \"drafts\", header = False)\n",
    "    data.to_csv(dest + \".csv\")"
   ]
  },
  {
   "cell_type": "code",
   "execution_count": null,
   "metadata": {},
   "outputs": [],
   "source": []
  }
 ],
 "metadata": {
  "colab": {
   "collapsed_sections": [],
   "name": "scraper.ipynb",
   "provenance": []
  },
  "kernelspec": {
   "display_name": "Python 3",
   "language": "python",
   "name": "python3"
  },
  "language_info": {
   "codemirror_mode": {
    "name": "ipython",
    "version": 3
   },
   "file_extension": ".py",
   "mimetype": "text/x-python",
   "name": "python",
   "nbconvert_exporter": "python",
   "pygments_lexer": "ipython3",
   "version": "3.7.9"
  }
 },
 "nbformat": 4,
 "nbformat_minor": 1
}
